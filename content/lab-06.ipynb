{
 "cells": [
  {
   "cell_type": "markdown",
   "metadata": {},
   "source": [
    "# Flask App\n",
    "\n",
    "In this example, we will build a Flask application that will deliver some custom data to users through an API.  Using our example from class, we aim to combine our webscraping work together with the Flask application development.  "
   ]
  },
  {
   "cell_type": "code",
   "execution_count": 19,
   "metadata": {},
   "outputs": [],
   "source": [
    "import requests"
   ]
  },
  {
   "cell_type": "code",
   "execution_count": 20,
   "metadata": {},
   "outputs": [],
   "source": [
    "payload = {'key1': 'value1', 'key2': 'value2'}\n",
    ">>> r = requests.get('https://httpbin.org/get', params=payload)"
   ]
  },
  {
   "cell_type": "code",
   "execution_count": 21,
   "metadata": {},
   "outputs": [
    {
     "name": "stdout",
     "output_type": "stream",
     "text": [
      "https://httpbin.org/get?key1=value1&key2=value2\n"
     ]
    }
   ],
   "source": [
    "print(r.url)"
   ]
  },
  {
   "cell_type": "markdown",
   "metadata": {},
   "source": [
    "https://search.azlyrics.com/search.php?q=rod+stewart"
   ]
  },
  {
   "cell_type": "code",
   "execution_count": 33,
   "metadata": {},
   "outputs": [],
   "source": [
    "payload = {'': 'rod+stewart'}\n",
    "r = requests.get('https://search.azlyrics.com/search.php?q=', params = payload)"
   ]
  },
  {
   "cell_type": "code",
   "execution_count": 34,
   "metadata": {},
   "outputs": [
    {
     "name": "stdout",
     "output_type": "stream",
     "text": [
      "https://search.azlyrics.com/search.php?q=&=rod%2Bstewart\n"
     ]
    }
   ],
   "source": [
    "print(r.url)"
   ]
  },
  {
   "cell_type": "code",
   "execution_count": 35,
   "metadata": {},
   "outputs": [],
   "source": [
    "base = 'https://search.azlyrics.com/search.php?q='"
   ]
  },
  {
   "cell_type": "code",
   "execution_count": 36,
   "metadata": {},
   "outputs": [
    {
     "name": "stdin",
     "output_type": "stream",
     "text": [
      "Who are you looking for? Rod Stewart\n"
     ]
    }
   ],
   "source": [
    "artist = input('Who are you looking for?')"
   ]
  },
  {
   "cell_type": "code",
   "execution_count": 37,
   "metadata": {},
   "outputs": [
    {
     "data": {
      "text/plain": [
       "'Rod Stewart'"
      ]
     },
     "execution_count": 37,
     "metadata": {},
     "output_type": "execute_result"
    }
   ],
   "source": [
    "artist"
   ]
  },
  {
   "cell_type": "code",
   "execution_count": 38,
   "metadata": {},
   "outputs": [
    {
     "data": {
      "text/plain": [
       "'rod stewart'"
      ]
     },
     "execution_count": 38,
     "metadata": {},
     "output_type": "execute_result"
    }
   ],
   "source": [
    "str.lower(artist)"
   ]
  },
  {
   "cell_type": "code",
   "execution_count": 39,
   "metadata": {},
   "outputs": [
    {
     "data": {
      "text/plain": [
       "['rod', 'stewart']"
      ]
     },
     "execution_count": 39,
     "metadata": {},
     "output_type": "execute_result"
    }
   ],
   "source": [
    "str.split(str.lower(artist))"
   ]
  },
  {
   "cell_type": "code",
   "execution_count": 42,
   "metadata": {},
   "outputs": [],
   "source": [
    "for i in str.split(str.lower(artist)):\n",
    "    base = base + '+' + str(i)"
   ]
  },
  {
   "cell_type": "code",
   "execution_count": 43,
   "metadata": {},
   "outputs": [
    {
     "data": {
      "text/plain": [
       "'https://search.azlyrics.com/search.php?q=+rod+stewart'"
      ]
     },
     "execution_count": 43,
     "metadata": {},
     "output_type": "execute_result"
    }
   ],
   "source": [
    "base"
   ]
  },
  {
   "cell_type": "code",
   "execution_count": 44,
   "metadata": {},
   "outputs": [],
   "source": [
    "from bs4 import BeautifulSoup"
   ]
  },
  {
   "cell_type": "code",
   "execution_count": 54,
   "metadata": {},
   "outputs": [],
   "source": [
    "def artist_search():\n",
    "    base = 'https://search.azlyrics.com/search.php?q='\n",
    "    artist = input('Who are you looking for?')\n",
    "    for i in str.split(str.lower(artist)):\n",
    "        base = base + '+' + str(i) + '&w=songs&p=1'\n",
    "    r = requests.get(base)\n",
    "    soup = BeautifulSoup(r.text, 'html.parser')\n",
    "    return soup.url"
   ]
  },
  {
   "cell_type": "code",
   "execution_count": 55,
   "metadata": {},
   "outputs": [
    {
     "name": "stdin",
     "output_type": "stream",
     "text": [
      "Who are you looking for? Rod Stewart\n"
     ]
    }
   ],
   "source": [
    "artist_search()"
   ]
  },
  {
   "cell_type": "code",
   "execution_count": 56,
   "metadata": {},
   "outputs": [],
   "source": [
    "url = 'https://search.azlyrics.com/search.php?q=rod+stewart&w=songs&p=1'"
   ]
  },
  {
   "cell_type": "code",
   "execution_count": 57,
   "metadata": {},
   "outputs": [],
   "source": [
    "r = requests.get(url)"
   ]
  },
  {
   "cell_type": "code",
   "execution_count": 58,
   "metadata": {},
   "outputs": [],
   "source": [
    "soup = BeautifulSoup(r.text, 'html.parser')"
   ]
  },
  {
   "cell_type": "code",
   "execution_count": 60,
   "metadata": {},
   "outputs": [
    {
     "data": {
      "text/plain": [
       "<td>\n",
       "<b>1</b>\n",
       "<a class=\"btn btn-share btn-nav\" href=\"?q=rod+stewart&amp;w=songs&amp;p=2\">2</a>\n",
       "<a class=\"btn btn-share btn-nav\" href=\"?q=rod+stewart&amp;w=songs&amp;p=3\">3</a>\n",
       "<a class=\"btn btn-share btn-nav\" href=\"?q=rod+stewart&amp;w=songs&amp;p=4\">4</a>\n",
       "<a class=\"btn btn-share btn-nav\" href=\"?q=rod+stewart&amp;w=songs&amp;p=5\">5</a>\n",
       "<a class=\"btn btn-share btn-nav\" href=\"?q=rod+stewart&amp;w=songs&amp;p=6\">6</a>\n",
       "<a class=\"btn btn-share btn-nav\" href=\"?q=rod+stewart&amp;w=songs&amp;p=7\">7</a>\n",
       "<a class=\"btn btn-share btn-nav\" href=\"?q=rod+stewart&amp;w=songs&amp;p=2\"><span class=\"glyphicon glyphicon-chevron-right\"></span></a>\n",
       "</td>"
      ]
     },
     "execution_count": 60,
     "metadata": {},
     "output_type": "execute_result"
    }
   ],
   "source": [
    "soup.find('td')"
   ]
  },
  {
   "cell_type": "code",
   "execution_count": 63,
   "metadata": {},
   "outputs": [],
   "source": [
    "rows = soup.find_all('tr')"
   ]
  },
  {
   "cell_type": "code",
   "execution_count": 68,
   "metadata": {},
   "outputs": [
    {
     "name": "stdout",
     "output_type": "stream",
     "text": [
      "https://www.azlyrics.com/lyrics/rodstewart/dayathinkimsexy567700.html\n",
      "https://www.azlyrics.com/lyrics/rodstewart/astimegoesby.html\n",
      "https://www.azlyrics.com/lyrics/rodstewart/onlyaboy.html\n",
      "https://www.azlyrics.com/lyrics/rodstewart/lasttrainhome.html\n",
      "https://www.azlyrics.com/lyrics/rodstewart/idontwanttotalkaboutit.html\n",
      "https://www.azlyrics.com/lyrics/rodstewart/blondeshavemorefun.html\n",
      "https://www.azlyrics.com/lyrics/rodstewart/haveitoldyoulately.html\n",
      "https://www.azlyrics.com/lyrics/rodstewart/sailing.html\n",
      "https://www.azlyrics.com/lyrics/rodstewart/oohlala.html\n",
      "https://www.azlyrics.com/lyrics/rodstewart/foreveryoung.html\n",
      "https://www.azlyrics.com/lyrics/rodstewart/grace.html\n",
      "https://www.azlyrics.com/lyrics/rodstewart/youreinmyheartthefinalacclaim.html\n",
      "https://www.azlyrics.com/lyrics/rodstewart/haveyoueverseentherain.html\n",
      "https://www.azlyrics.com/lyrics/rodstewart/maggiemay.html\n",
      "https://www.azlyrics.com/lyrics/rodstewart/didnti.html\n",
      "https://www.azlyrics.com/lyrics/rodstewart/whenineedyou.html\n",
      "https://www.azlyrics.com/lyrics/rodstewart/thefirstcutisthedeepest.html\n",
      "https://www.azlyrics.com/lyrics/rodstewart/reasontobelieve.html\n",
      "https://www.azlyrics.com/lyrics/rodstewart/dayathinkimsexy.html\n"
     ]
    }
   ],
   "source": [
    "for i in rows[2:-1]:\n",
    "    print(i.a.attrs['href'])"
   ]
  },
  {
   "cell_type": "code",
   "execution_count": 73,
   "metadata": {},
   "outputs": [],
   "source": [
    "lyr = requests.get(str(rows[2].a.attrs['href']))"
   ]
  },
  {
   "cell_type": "code",
   "execution_count": 74,
   "metadata": {},
   "outputs": [],
   "source": [
    "lyr_soup = BeautifulSoup(lyr.text, 'html.parser')"
   ]
  },
  {
   "cell_type": "code",
   "execution_count": 75,
   "metadata": {},
   "outputs": [],
   "source": [
    "lyr_soup.find('p')"
   ]
  },
  {
   "cell_type": "code",
   "execution_count": 77,
   "metadata": {},
   "outputs": [
    {
     "data": {
      "text/plain": [
       "<div id=\"fb-root\"></div>"
      ]
     },
     "execution_count": 77,
     "metadata": {},
     "output_type": "execute_result"
    }
   ],
   "source": [
    "lyr_soup.div"
   ]
  },
  {
   "cell_type": "code",
   "execution_count": 80,
   "metadata": {},
   "outputs": [],
   "source": [
    "main = lyr_soup.find('div', {'class': 'col-xs-12 col-lg-8 text-center'})"
   ]
  },
  {
   "cell_type": "code",
   "execution_count": null,
   "metadata": {},
   "outputs": [],
   "source": []
  },
  {
   "cell_type": "code",
   "execution_count": 81,
   "metadata": {},
   "outputs": [],
   "source": [
    "import re"
   ]
  },
  {
   "cell_type": "code",
   "execution_count": 147,
   "metadata": {},
   "outputs": [],
   "source": [
    "regex = re.compile('[^\\s,\\\":\\]\\[?)(]+')"
   ]
  },
  {
   "cell_type": "code",
   "execution_count": 148,
   "metadata": {},
   "outputs": [
    {
     "data": {
      "text/plain": [
       "bs4.element.Tag"
      ]
     },
     "execution_count": 148,
     "metadata": {},
     "output_type": "execute_result"
    }
   ],
   "source": [
    "type(main)"
   ]
  },
  {
   "cell_type": "code",
   "execution_count": 152,
   "metadata": {},
   "outputs": [],
   "source": [
    "words = re.findall(regex, main.text)"
   ]
  },
  {
   "cell_type": "code",
   "execution_count": 184,
   "metadata": {},
   "outputs": [],
   "source": [
    "lyrics = []\n",
    "sent = ' '\n",
    "for word in words:\n",
    "    if word.islower() == True:\n",
    "        sent = sent + ' ' + word\n",
    "    else:\n",
    "        sent = sent + '. ' + word\n",
    "for i in sent.split('.'):\n",
    "        if i.find('Android'):\n",
    "            pass\n",
    "        elif len(i)>6:\n",
    "            lyrics.append(i)\n",
    "        else:\n",
    "            pass\n",
    "        \n",
    "        "
   ]
  },
  {
   "cell_type": "code",
   "execution_count": 185,
   "metadata": {},
   "outputs": [
    {
     "data": {
      "text/plain": [
       "[]"
      ]
     },
     "execution_count": 185,
     "metadata": {},
     "output_type": "execute_result"
    }
   ],
   "source": [
    "/html/body/div[3]/div/div[2]/div[5]"
   ]
  },
  {
   "cell_type": "code",
   "execution_count": 175,
   "metadata": {},
   "outputs": [
    {
     "name": "stdout",
     "output_type": "stream",
     "text": [
      " Sexy lyrics\n",
      " Stewart\n",
      " Lyrics\n",
      " Sexy feat\n",
      " Oh yeah yeah yeah\n",
      " She sits alone waiting for suggestions\n",
      " He's so nervous avoiding all the questions\n",
      " His lips are dry his heart is gently pounding\n",
      " Don't you just know exactly what they're thinking\n",
      " His heart's beating like a drum like a drum\n",
      " Is he gonna get this girl home\n",
      " Relax soon baby we'll be all alone\n",
      " Don't you just know exactly what they're thinking\n",
      " If you want my body and you think\n",
      " I'm sexy\n",
      " Come on sugar tell me so\n",
      " If you really need me just reach out and touch me\n",
      " Come on honey tell me so\n",
      " Stewart\n",
      " Alright\n",
      " He's acting shy looking for an answer\n",
      " Come on honey let's spend the night together\n",
      " Now hold on a minute before we go much further\n",
      " Give me a dime so\n",
      " I can phone my mother\n",
      " They catch a cab to his high-rise apartment\n",
      " At last he can tell exactly what his heart meant\n",
      " If you want my body and you think\n",
      " I'm sexy\n",
      " Come on sugar tell me so tell me so\n",
      " If you really need me just reach out and touch me\n",
      " Come on honey tell me so\n",
      " Oh yeah yeah yeah\n",
      " I like this\n",
      " I like this\n",
      " I like this\n",
      " Stewart\n",
      " Come on baby spend the night\n",
      " I promised to behave myself\n",
      " Oh yeah oh yeah\n",
      " Yeah yeah yeah\n",
      " His heart's beating like a drum like a drum\n",
      " Is he gonna get this girl home is he\n",
      " We'll soon baby we'll be alone\n",
      " Don't you just know exactly what they're thinking\n",
      " If you want my body and you think\n",
      " I'm sexy\n",
      " Come on sugar tell me so\n",
      " If you really need me just reach out and touch me\n",
      " Come on honey tell me so tell me so\n",
      " If you really really really need me\n",
      " Just let me know\n",
      " Just let me know\n",
      " If you really need me\n",
      " If you really really really need me\n",
      " Just let me know\n",
      " Just let me know\n",
      " Oh yeah yeah yeah\n",
      " /Android|webOS|iPhone|iPod|iPad|BlackBerry|IEMobile|Opera\n",
      " Mini/i\n",
      " navigator\n",
      "userAgent\n",
      " { document\n",
      "write '<div style= margin-left auto; margin-right auto;\n",
      " >'+ '<iframe scrolling= no style= border 0px none; overflow hidden; src=\n",
      "net/br/t1\n",
      "0/m_js/e_0/sn_0/l_17382965/su_0/rs_0/tr_3vUCAPbDxQAOMatG2kio36-S_8Za0BcCULMDYhA5GgK0xkS9nYVx7BVvBrmXmtyU2xAC0TTHPFHGOm9f6iOvTF0CZWCfC_4Qvk1llmym7f0Bg9tZn143OaB_XOCrzrU5BOmo-58juSMGF8R3GCkLWlQJ-T6TvZ_8B_Ceoi3YNhKBeUgIVRXclQ5QCoSDIV4e77ZMmImHVFa1-vgnxZPLyWnFdI6947vqTfRCaqv6F6xT25rnsSSLXbyUkhSudMvEdPxiBr9kPVip5xwoG5rC9QgNutmXXYEDFZQyBw9aIz7_BDGLqMwaipfq208jI0t5u8CLfwbqI7WFm_0F1nWJ0JuXHw8wEqGJ__sA3ZtsL8lLuUPOcvWUrbWgCQ4ANFoKeTBZrsnN9zsKDWGgQvtZ4EKUevda1rrJRx2mQrYo3ed3cK0ia6xPyycScMNd5mXbFf89xEvsB_0XTgSh5hCwICM/ width= 290px height= 50px ></iframe>'+ '</div>'\n",
      " Submit\n",
      " Corrections\n",
      " Writer s\n",
      " HITCHINGS\n",
      " STEWART\n",
      " RODERICK\n",
      " APPICE\n",
      " CARMINE\n",
      " AZLyrics\n",
      " Stewart\n",
      " Lyrics\n",
      " Search\n"
     ]
    }
   ],
   "source": [
    "for i in sent.split('.'):\n",
    "    if len(i)>6:\n",
    "        print(i)\n",
    "    else:\n",
    "        pass"
   ]
  },
  {
   "cell_type": "code",
   "execution_count": null,
   "metadata": {},
   "outputs": [],
   "source": []
  }
 ],
 "metadata": {
  "kernelspec": {
   "display_name": "Python 3",
   "language": "python",
   "name": "python3"
  },
  "language_info": {
   "codemirror_mode": {
    "name": "ipython",
    "version": 3
   },
   "file_extension": ".py",
   "mimetype": "text/x-python",
   "name": "python",
   "nbconvert_exporter": "python",
   "pygments_lexer": "ipython3",
   "version": "3.6.6"
  }
 },
 "nbformat": 4,
 "nbformat_minor": 2
}
